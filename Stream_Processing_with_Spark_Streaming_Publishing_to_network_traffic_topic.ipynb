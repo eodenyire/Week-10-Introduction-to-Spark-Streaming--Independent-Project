{
  "nbformat": 4,
  "nbformat_minor": 0,
  "metadata": {
    "colab": {
      "provenance": [],
      "toc_visible": true
    },
    "kernelspec": {
      "name": "python3",
      "display_name": "Python 3"
    },
    "language_info": {
      "name": "python"
    }
  },
  "cells": [
    {
      "cell_type": "markdown",
      "source": [
        "# Sample Starter Code: Basic Stream Processing with Spark Streaming"
      ],
      "metadata": {
        "id": "QTA9ud9w9v7b"
      }
    },
    {
      "cell_type": "markdown",
      "source": [
        "Here's some sample code in Python using the kafka-python package for generating network traffic data and publishing it to the Kafka topic."
      ],
      "metadata": {
        "id": "nfHJxZT99p7U"
      }
    },
    {
      "cell_type": "code",
      "source": [
        "!pip install confluent-Kafka"
      ],
      "metadata": {
        "colab": {
          "base_uri": "https://localhost:8080/"
        },
        "id": "zj5823rRzZY8",
        "outputId": "db8798ed-b0eb-429a-abf8-03d9937575c1"
      },
      "execution_count": 1,
      "outputs": [
        {
          "output_type": "stream",
          "name": "stdout",
          "text": [
            "Looking in indexes: https://pypi.org/simple, https://us-python.pkg.dev/colab-wheels/public/simple/\n",
            "Collecting confluent-Kafka\n",
            "  Downloading confluent_kafka-2.1.1-cp310-cp310-manylinux_2_17_x86_64.manylinux2014_x86_64.whl (3.9 MB)\n",
            "\u001b[2K     \u001b[90m━━━━━━━━━━━━━━━━━━━━━━━━━━━━━━━━━━━━━━━━\u001b[0m \u001b[32m3.9/3.9 MB\u001b[0m \u001b[31m58.0 MB/s\u001b[0m eta \u001b[36m0:00:00\u001b[0m\n",
            "\u001b[?25hInstalling collected packages: confluent-Kafka\n",
            "Successfully installed confluent-Kafka-2.1.1\n"
          ]
        }
      ]
    },
    {
      "cell_type": "code",
      "source": [
        "from confluent_kafka import Producer\n",
        "import time\n",
        "import random\n",
        "\n",
        "# Kafka producer configuration\n",
        "bootstrap_servers = 'pkc-lzvrd.us-west4.gcp.confluent.cloud:9092'\n",
        "sasl_username = 'ATT27BW7IKWVVS7C'\n",
        "sasl_password = 'N+mQd+xm1CRv4GhKgoMTWpAXISNzLudR0w+VW/SACm7AW6JSjntN1Fgz0nwSKaA8'\n",
        "topic_name = 'network-traffic'\n",
        "\n",
        "conf = {\n",
        "    'bootstrap.servers': bootstrap_servers,\n",
        "    'security.protocol': 'SASL_SSL',\n",
        "    'sasl.mechanisms': 'PLAIN',\n",
        "    'sasl.username': sasl_username,\n",
        "    'sasl.password': sasl_password\n",
        "}\n",
        "\n",
        "producer = Producer(conf)\n",
        "\n",
        "# Generate and publish network traffic data to Kafka topic\n",
        "while True:\n",
        "    # Generate random network traffic data\n",
        "    source_ip = '.'.join(str(random.randint(0, 255)) for _ in range(4))\n",
        "    destination_ip = '.'.join(str(random.randint(0, 255)) for _ in range(4))\n",
        "    bytes_sent = random.randint(1000, 100000)\n",
        "\n",
        "    # Publish network traffic data to Kafka topic\n",
        "    message = f\"{source_ip},{destination_ip},{bytes_sent}\".encode('utf-8')\n",
        "    producer.produce(topic_name, value=message)\n",
        "\n",
        "    # Wait for the message to be delivered to Kafka\n",
        "    producer.flush()\n",
        "\n",
        "    # Wait for 1 second before generating next network traffic data\n",
        "    time.sleep(1)\n"
      ],
      "metadata": {
        "colab": {
          "base_uri": "https://localhost:8080/",
          "height": 200
        },
        "id": "aneuL2ft04Aq",
        "outputId": "19eb040e-a44a-45bb-c7d7-0d35dddd5d56"
      },
      "execution_count": 3,
      "outputs": [
        {
          "output_type": "error",
          "ename": "KeyboardInterrupt",
          "evalue": "ignored",
          "traceback": [
            "\u001b[0;31m---------------------------------------------------------------------------\u001b[0m",
            "\u001b[0;31mKeyboardInterrupt\u001b[0m                         Traceback (most recent call last)",
            "\u001b[0;32m<ipython-input-3-2631eae41464>\u001b[0m in \u001b[0;36m<cell line: 22>\u001b[0;34m()\u001b[0m\n\u001b[1;32m     34\u001b[0m \u001b[0;34m\u001b[0m\u001b[0m\n\u001b[1;32m     35\u001b[0m     \u001b[0;31m# Wait for 1 second before generating next network traffic data\u001b[0m\u001b[0;34m\u001b[0m\u001b[0;34m\u001b[0m\u001b[0m\n\u001b[0;32m---> 36\u001b[0;31m     \u001b[0mtime\u001b[0m\u001b[0;34m.\u001b[0m\u001b[0msleep\u001b[0m\u001b[0;34m(\u001b[0m\u001b[0;36m1\u001b[0m\u001b[0;34m)\u001b[0m\u001b[0;34m\u001b[0m\u001b[0;34m\u001b[0m\u001b[0m\n\u001b[0m",
            "\u001b[0;31mKeyboardInterrupt\u001b[0m: "
          ]
        }
      ]
    }
  ]
}